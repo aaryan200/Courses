{
 "cells": [
  {
   "cell_type": "code",
   "execution_count": 4,
   "id": "c32543c4",
   "metadata": {},
   "outputs": [],
   "source": [
    "import scipy.optimize as optimize\n",
    "import numpy as np\n",
    "from scipy.integrate import solve_ivp\n",
    "import matplotlib.pyplot as plt"
   ]
  },
  {
   "cell_type": "markdown",
   "id": "4e2365bf",
   "metadata": {},
   "source": [
    "# Unconstrained Optimization\n",
    "F = x^2 + y^2"
   ]
  },
  {
   "cell_type": "code",
   "execution_count": 7,
   "id": "4297a3b7",
   "metadata": {},
   "outputs": [],
   "source": [
    "def f(X):\n",
    "    return X[0]**2+X[1]**2"
   ]
  },
  {
   "cell_type": "code",
   "execution_count": 8,
   "id": "f960554e",
   "metadata": {},
   "outputs": [
    {
     "name": "stdout",
     "output_type": "stream",
     "text": [
      "Optimization terminated successfully.\n",
      "         Current function value: 0.000000\n",
      "         Iterations: 38\n",
      "         Function evaluations: 69\n"
     ]
    }
   ],
   "source": [
    "X = [1,1]\n",
    "minimum = optimize.fmin(f, X, full_output = True)"
   ]
  },
  {
   "cell_type": "code",
   "execution_count": 12,
   "id": "cf57d663",
   "metadata": {},
   "outputs": [
    {
     "data": {
      "text/plain": [
       "(array([-2.10235293e-05,  2.54845649e-05]), 1.0914518324593772e-09, 38, 69, 0)"
      ]
     },
     "execution_count": 12,
     "metadata": {},
     "output_type": "execute_result"
    }
   ],
   "source": [
    "minimum"
   ]
  },
  {
   "cell_type": "markdown",
   "id": "3076d88a",
   "metadata": {},
   "source": [
    "# Constrained Optimization\n",
    "F = (x-1)^2 + (y-2.5)^2"
   ]
  },
  {
   "cell_type": "code",
   "execution_count": 13,
   "id": "91a3efee",
   "metadata": {},
   "outputs": [],
   "source": [
    "def fun(x):\n",
    "    return (x[0]-1)**2+(x[1]-2.5)**2"
   ]
  },
  {
   "cell_type": "code",
   "execution_count": 15,
   "id": "ee5538eb",
   "metadata": {},
   "outputs": [],
   "source": [
    "# Equality constraint means that the constraint function result is to be zero whereas inequality means that \n",
    "# it is to be non-negative.\n",
    "cons = ({'type':'ineq', 'fun':lambda x:x[0] - 2*x[1] + 2},\n",
    "        {'type':'ineq', 'fun':lambda x:-x[0] - 2*x[1] + 6},\n",
    "        {'type':'ineq', 'fun':lambda x:-x[0] + 2*x[1]+2})\n",
    "bounds = ((0,None),(0,None))"
   ]
  },
  {
   "cell_type": "code",
   "execution_count": 16,
   "id": "34d8c917",
   "metadata": {},
   "outputs": [],
   "source": [
    "res = optimize.minimize(fun,np.array([2,0]),method = 'SLSQP', bounds = bounds, constraints= cons)"
   ]
  },
  {
   "cell_type": "code",
   "execution_count": 17,
   "id": "239269af",
   "metadata": {},
   "outputs": [
    {
     "data": {
      "text/plain": [
       " message: Optimization terminated successfully\n",
       " success: True\n",
       "  status: 0\n",
       "     fun: 0.8000000011920985\n",
       "       x: [ 1.400e+00  1.700e+00]\n",
       "     nit: 3\n",
       "     jac: [ 8.000e-01 -1.600e+00]\n",
       "    nfev: 10\n",
       "    njev: 3"
      ]
     },
     "execution_count": 17,
     "metadata": {},
     "output_type": "execute_result"
    }
   ],
   "source": [
    "res"
   ]
  },
  {
   "cell_type": "markdown",
   "id": "5d15aa33",
   "metadata": {},
   "source": [
    "# Root Finding\n",
    "x^3 - 1"
   ]
  },
  {
   "cell_type": "code",
   "execution_count": 18,
   "id": "9f67cf47",
   "metadata": {},
   "outputs": [],
   "source": [
    "def f(x):\n",
    "    return x**3-1\n",
    "def fprime(x):\n",
    "    return 3*x**2"
   ]
  },
  {
   "cell_type": "code",
   "execution_count": 21,
   "id": "208a99bb",
   "metadata": {},
   "outputs": [],
   "source": [
    "sol = optimize.root_scalar(f = f, x0=0.2, fprime = fprime, method = 'newton')"
   ]
  },
  {
   "cell_type": "code",
   "execution_count": 22,
   "id": "229e5667",
   "metadata": {},
   "outputs": [
    {
     "data": {
      "text/plain": [
       "      converged: True\n",
       "           flag: 'converged'\n",
       " function_calls: 22\n",
       "     iterations: 11\n",
       "           root: 1.0"
      ]
     },
     "execution_count": 22,
     "metadata": {},
     "output_type": "execute_result"
    }
   ],
   "source": [
    "sol"
   ]
  },
  {
   "cell_type": "markdown",
   "id": "883d7aa5",
   "metadata": {},
   "source": [
    "# ODEs"
   ]
  },
  {
   "cell_type": "code",
   "execution_count": 12,
   "id": "ff87058b",
   "metadata": {},
   "outputs": [],
   "source": [
    "def odes(t,x):\n",
    "    Y = x[0]\n",
    "    P = x[1]\n",
    "    dYdt = (-0.4*Y)+(0.02*P*Y)\n",
    "    dPdt = (0.8*P)-(0.01*P**2)-(0.1*P*Y)\n",
    "    return [dYdt,dPdt]"
   ]
  },
  {
   "cell_type": "code",
   "execution_count": 13,
   "id": "e8dff268",
   "metadata": {},
   "outputs": [],
   "source": [
    "t = np.array([0,60])\n",
    "times = np.linspace(t[0],t[1],6000)\n",
    "x0 = [20, 20]"
   ]
  },
  {
   "cell_type": "code",
   "execution_count": 14,
   "id": "0f716751",
   "metadata": {},
   "outputs": [],
   "source": [
    "sol = solve_ivp(odes, [t[0],t[1]], y0 = x0, t_eval = times)"
   ]
  },
  {
   "cell_type": "code",
   "execution_count": 16,
   "id": "c56c069d",
   "metadata": {},
   "outputs": [
    {
     "data": {
      "text/plain": [
       "  message: The solver successfully reached the end of the integration interval.\n",
       "  success: True\n",
       "   status: 0\n",
       "        t: [ 0.000e+00  1.000e-02 ...  5.999e+01  6.000e+01]\n",
       "        y: [[ 2.000e+01  2.000e+01 ...  5.978e+00  5.978e+00]\n",
       "            [ 2.000e+01  1.972e+01 ...  1.993e+01  1.993e+01]]\n",
       "      sol: None\n",
       " t_events: None\n",
       " y_events: None\n",
       "     nfev: 164\n",
       "     njev: 0\n",
       "      nlu: 0"
      ]
     },
     "execution_count": 16,
     "metadata": {},
     "output_type": "execute_result"
    }
   ],
   "source": [
    "sol"
   ]
  },
  {
   "cell_type": "code",
   "execution_count": 15,
   "id": "12075a71",
   "metadata": {},
   "outputs": [
    {
     "data": {
      "image/png": "[encoded data removed]",
      "text/plain": [
       "<Figure size 800x800 with 1 Axes>"
      ]
     },
     "metadata": {},
     "output_type": "display_data"
    }
   ],
   "source": [
    "plt.figure(figsize = (8,8))\n",
    "plt.plot(sol.t,sol.y[0],label='Y')\n",
    "plt.plot(sol.t,sol.y[1], label= 'P')\n",
    "plt.legend()\n",
    "plt.show()"
   ]
  },
  {
   "cell_type": "markdown",
   "id": "56b20efd",
   "metadata": {},
   "source": [
    "# Test"
   ]
  },
  {
   "cell_type": "code",
   "execution_count": 1,
   "id": "073315c2",
   "metadata": {},
   "outputs": [],
   "source": [
    "def func(x):\n",
    "    return (x[0]-2)**2 + (x[1]-2)**2\n",
    "\n",
    "cons = ({'type':'ineq', 'fun' : lambda x:(x[0] + x[1] - 2)})\n",
    "bounds = ((0, None), (0,None))"
   ]
  },
  {
   "cell_type": "code",
   "execution_count": 5,
   "id": "a0537e63",
   "metadata": {},
   "outputs": [],
   "source": [
    "res = optimize.minimize(func,np.array([2,0]),method = 'SLSQP', bounds = bounds, constraints= cons)"
   ]
  },
  {
   "cell_type": "code",
   "execution_count": 6,
   "id": "ccd6d4ed",
   "metadata": {},
   "outputs": [
    {
     "data": {
      "text/plain": [
       " message: Optimization terminated successfully\n",
       " success: True\n",
       "  status: 0\n",
       "     fun: 0.0\n",
       "       x: [ 2.000e+00  2.000e+00]\n",
       "     nit: 2\n",
       "     jac: [ 1.490e-08  1.490e-08]\n",
       "    nfev: 7\n",
       "    njev: 2"
      ]
     },
     "execution_count": 6,
     "metadata": {},
     "output_type": "execute_result"
    }
   ],
   "source": [
    "res"
   ]
  },
  {
   "cell_type": "code",
   "execution_count": null,
   "id": "3232feff",
   "metadata": {},
   "outputs": [],
   "source": []
  },
  {
   "cell_type": "code",
   "execution_count": null,
   "id": "6fde8cd6",
   "metadata": {},
   "outputs": [],
   "source": []
  },
  {
   "cell_type": "code",
   "execution_count": null,
   "id": "78b8e60a",
   "metadata": {},
   "outputs": [],
   "source": []
  }
 ],
 "metadata": {
  "kernelspec": {
   "display_name": "Python 3 (ipykernel)",
   "language": "python",
   "name": "python3"
  },
  "language_info": {
   "codemirror_mode": {
    "name": "ipython",
    "version": 3
   },
   "file_extension": ".py",
   "mimetype": "text/x-python",
   "name": "python",
   "nbconvert_exporter": "python",
   "pygments_lexer": "ipython3",
   "version": "3.10.6"
  },
  "vscode": {
   "interpreter": {
    "hash": "90fe576973271cf899b0ff2bfc885023e73fdc4a0873ebeb940eccfd8c747e03"
   }
  }
 },
 "nbformat": 4,
 "nbformat_minor": 5
}
