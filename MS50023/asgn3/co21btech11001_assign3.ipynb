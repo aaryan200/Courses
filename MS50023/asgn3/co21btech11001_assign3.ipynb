{
 "cells": [
  {
   "cell_type": "code",
   "execution_count": 11,
   "metadata": {},
   "outputs": [],
   "source": [
    "import numpy as np"
   ]
  },
  {
   "cell_type": "code",
   "execution_count": 17,
   "metadata": {},
   "outputs": [],
   "source": [
    "def transform_conventional_to_primitive(transformation_matrix, conventional_atomic_positions):\n",
    "    \"\"\"\n",
    "    Transform conventional atomic positions to primitive atomic positions.\n",
    "    \"\"\"\n",
    "    primitive_atomic_positions = np.matmul(conventional_atomic_positions, transformation_matrix)\n",
    "    return primitive_atomic_positions"
   ]
  },
  {
   "cell_type": "code",
   "execution_count": 22,
   "metadata": {},
   "outputs": [
    {
     "name": "stdout",
     "output_type": "stream",
     "text": [
      "[[0.   0.   0.  ]\n",
      " [0.5  0.25 0.25]\n",
      " [0.25 0.5  0.25]\n",
      " [0.25 0.25 0.5 ]]\n"
     ]
    }
   ],
   "source": [
    "# Define the transformation matrix\n",
    "transformation_matrix = np.array([[0.0, 0.5, 0.5], \n",
    "                                  [0.5, 0.0, 0.5], \n",
    "                                  [0.5, 0.5, 0.0]])\n",
    "\n",
    "# Define atomic positions in fractional coordinates of the conventional cell\n",
    "conventional_atomic_positions = np.array([\n",
    "    [0.0, 0.0, 0.0],\n",
    "    [0.0, 0.5, 0.5],\n",
    "    [0.5, 0.0, 0.5],\n",
    "    [0.5, 0.5, 0.0]\n",
    "])\n",
    "\n",
    "# Transform the atomic positions to primitive coordinates\n",
    "primitive_atomic_positions = transform_conventional_to_primitive(transformation_matrix, conventional_atomic_positions)\n",
    "print(primitive_atomic_positions)\n"
   ]
  },
  {
   "cell_type": "code",
   "execution_count": null,
   "metadata": {},
   "outputs": [],
   "source": []
  }
 ],
 "metadata": {
  "kernelspec": {
   "display_name": "Python 3",
   "language": "python",
   "name": "python3"
  },
  "language_info": {
   "codemirror_mode": {
    "name": "ipython",
    "version": 3
   },
   "file_extension": ".py",
   "mimetype": "text/x-python",
   "name": "python",
   "nbconvert_exporter": "python",
   "pygments_lexer": "ipython3",
   "version": "3.10.12"
  },
  "orig_nbformat": 4
 },
 "nbformat": 4,
 "nbformat_minor": 2
}
