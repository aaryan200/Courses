{
 "cells": [
  {
   "cell_type": "code",
   "execution_count": 1,
   "id": "b227977b",
   "metadata": {},
   "outputs": [],
   "source": [
    "import numpy as np"
   ]
  },
  {
   "cell_type": "code",
   "execution_count": 7,
   "id": "30bfdc71",
   "metadata": {},
   "outputs": [],
   "source": [
    "def areaCircle(r, gridsize = 0.01):\n",
    "    total_pts = 0\n",
    "    inside_pts = 0\n",
    "    for x in np.arange(-r, r+gridsize, gridsize):\n",
    "        for y in np.arange(-r, r+gridsize, gridsize):\n",
    "            if (x*x + y*y <= r*r): inside_pts += 1\n",
    "            total_pts += 1\n",
    "    area = 4.0*r*r*inside_pts/total_pts\n",
    "    return area"
   ]
  },
  {
   "cell_type": "code",
   "execution_count": 9,
   "id": "83ed9aed",
   "metadata": {},
   "outputs": [
    {
     "data": {
      "text/plain": [
       "3.1383898255769664"
      ]
     },
     "execution_count": 9,
     "metadata": {},
     "output_type": "execute_result"
    }
   ],
   "source": [
    "areaCircle(1.0, gridsize=0.001)"
   ]
  },
  {
   "cell_type": "code",
   "execution_count": null,
   "id": "75ebdf2c",
   "metadata": {},
   "outputs": [],
   "source": []
  }
 ],
 "metadata": {
  "kernelspec": {
   "display_name": "Python 3 (ipykernel)",
   "language": "python",
   "name": "python3"
  },
  "language_info": {
   "codemirror_mode": {
    "name": "ipython",
    "version": 3
   },
   "file_extension": ".py",
   "mimetype": "text/x-python",
   "name": "python",
   "nbconvert_exporter": "python",
   "pygments_lexer": "ipython3",
   "version": "3.10.12"
  }
 },
 "nbformat": 4,
 "nbformat_minor": 5
}
