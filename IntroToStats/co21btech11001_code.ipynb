{
 "cells": [
  {
   "cell_type": "code",
   "execution_count": 2,
   "metadata": {},
   "outputs": [],
   "source": [
    "import numpy as np\n",
    "import matplotlib.pyplot as plt\n",
    "import pandas as pd"
   ]
  },
  {
   "cell_type": "code",
   "execution_count": 3,
   "metadata": {},
   "outputs": [],
   "source": [
    "# Read the file\n",
    "file = 'co21btech11001_data.csv'\n",
    "df = pd.read_csv(file)\n",
    "df = df.drop(['Name','Roll No', 'Email', 'Group', 'Favourite movie', 'Year on 5Rs coin'], axis = 1)\n",
    "df = df.dropna()"
   ]
  },
  {
   "cell_type": "code",
   "execution_count": 4,
   "metadata": {},
   "outputs": [
    {
     "data": {
      "text/html": [
       "<div>\n",
       "<style scoped>\n",
       "    .dataframe tbody tr th:only-of-type {\n",
       "        vertical-align: middle;\n",
       "    }\n",
       "\n",
       "    .dataframe tbody tr th {\n",
       "        vertical-align: top;\n",
       "    }\n",
       "\n",
       "    .dataframe thead th {\n",
       "        text-align: right;\n",
       "    }\n",
       "</style>\n",
       "<table border=\"1\" class=\"dataframe\">\n",
       "  <thead>\n",
       "    <tr style=\"text-align: right;\">\n",
       "      <th></th>\n",
       "      <th>Movie Length in mins</th>\n",
       "    </tr>\n",
       "  </thead>\n",
       "  <tbody>\n",
       "    <tr>\n",
       "      <th>2</th>\n",
       "      <td>181.0</td>\n",
       "    </tr>\n",
       "    <tr>\n",
       "      <th>3</th>\n",
       "      <td>152.0</td>\n",
       "    </tr>\n",
       "    <tr>\n",
       "      <th>4</th>\n",
       "      <td>168.0</td>\n",
       "    </tr>\n",
       "    <tr>\n",
       "      <th>5</th>\n",
       "      <td>164.0</td>\n",
       "    </tr>\n",
       "    <tr>\n",
       "      <th>6</th>\n",
       "      <td>176.0</td>\n",
       "    </tr>\n",
       "  </tbody>\n",
       "</table>\n",
       "</div>"
      ],
      "text/plain": [
       "   Movie Length in mins\n",
       "2                 181.0\n",
       "3                 152.0\n",
       "4                 168.0\n",
       "5                 164.0\n",
       "6                 176.0"
      ]
     },
     "execution_count": 4,
     "metadata": {},
     "output_type": "execute_result"
    }
   ],
   "source": [
    "df.head()"
   ]
  },
  {
   "cell_type": "code",
   "execution_count": 5,
   "metadata": {},
   "outputs": [],
   "source": [
    "# Removing data with movie length more than 250 minutes\n",
    "df = df[df['Movie Length in mins'] < 250]"
   ]
  },
  {
   "cell_type": "code",
   "execution_count": 6,
   "metadata": {
    "collapsed": true
   },
   "outputs": [
    {
     "data": {
      "text/plain": [
       "array([[181.],\n",
       "       [152.],\n",
       "       [168.],\n",
       "       [164.],\n",
       "       [176.],\n",
       "       [133.],\n",
       "       [153.],\n",
       "       [144.],\n",
       "       [169.],\n",
       "       [154.],\n",
       "       [152.],\n",
       "       [115.],\n",
       "       [112.],\n",
       "       [153.],\n",
       "       [103.],\n",
       "       [148.],\n",
       "       [110.],\n",
       "       [228.],\n",
       "       [110.],\n",
       "       [136.],\n",
       "       [ 97.],\n",
       "       [113.],\n",
       "       [126.],\n",
       "       [130.],\n",
       "       [143.],\n",
       "       [169.],\n",
       "       [159.],\n",
       "       [170.],\n",
       "       [110.],\n",
       "       [138.],\n",
       "       [139.],\n",
       "       [120.],\n",
       "       [169.],\n",
       "       [126.],\n",
       "       [123.],\n",
       "       [156.],\n",
       "       [163.],\n",
       "       [134.],\n",
       "       [115.],\n",
       "       [160.],\n",
       "       [104.],\n",
       "       [153.],\n",
       "       [152.],\n",
       "       [ 92.],\n",
       "       [ 94.],\n",
       "       [ 92.],\n",
       "       [128.],\n",
       "       [169.],\n",
       "       [152.],\n",
       "       [176.],\n",
       "       [119.],\n",
       "       [165.],\n",
       "       [133.],\n",
       "       [143.],\n",
       "       [171.],\n",
       "       [168.],\n",
       "       [163.],\n",
       "       [146.],\n",
       "       [157.],\n",
       "       [157.],\n",
       "       [168.],\n",
       "       [157.],\n",
       "       [171.],\n",
       "       [177.],\n",
       "       [105.],\n",
       "       [130.],\n",
       "       [182.],\n",
       "       [153.],\n",
       "       [182.],\n",
       "       [165.],\n",
       "       [165.],\n",
       "       [158.],\n",
       "       [127.],\n",
       "       [132.],\n",
       "       [139.],\n",
       "       [131.],\n",
       "       [140.],\n",
       "       [155.],\n",
       "       [166.],\n",
       "       [163.],\n",
       "       [130.],\n",
       "       [171.],\n",
       "       [153.],\n",
       "       [148.],\n",
       "       [ 93.],\n",
       "       [201.],\n",
       "       [165.],\n",
       "       [138.],\n",
       "       [169.],\n",
       "       [168.],\n",
       "       [171.],\n",
       "       [169.],\n",
       "       [150.],\n",
       "       [152.],\n",
       "       [167.],\n",
       "       [143.],\n",
       "       [142.],\n",
       "       [182.],\n",
       "       [174.],\n",
       "       [106.],\n",
       "       [136.],\n",
       "       [100.],\n",
       "       [144.],\n",
       "       [149.],\n",
       "       [106.],\n",
       "       [147.],\n",
       "       [149.],\n",
       "       [157.],\n",
       "       [ 96.],\n",
       "       [171.],\n",
       "       [132.],\n",
       "       [165.],\n",
       "       [238.],\n",
       "       [104.],\n",
       "       [169.],\n",
       "       [ 96.],\n",
       "       [153.],\n",
       "       [131.],\n",
       "       [169.],\n",
       "       [190.],\n",
       "       [ 92.],\n",
       "       [124.],\n",
       "       [158.],\n",
       "       [182.],\n",
       "       [115.],\n",
       "       [ 98.],\n",
       "       [176.],\n",
       "       [192.],\n",
       "       [120.],\n",
       "       [142.],\n",
       "       [161.],\n",
       "       [153.],\n",
       "       [166.],\n",
       "       [140.],\n",
       "       [118.],\n",
       "       [171.],\n",
       "       [180.],\n",
       "       [153.],\n",
       "       [142.],\n",
       "       [160.],\n",
       "       [142.],\n",
       "       [182.],\n",
       "       [157.],\n",
       "       [158.],\n",
       "       [127.],\n",
       "       [163.],\n",
       "       [150.],\n",
       "       [153.],\n",
       "       [142.],\n",
       "       [161.],\n",
       "       [ 96.],\n",
       "       [104.],\n",
       "       [122.],\n",
       "       [152.],\n",
       "       [168.],\n",
       "       [182.],\n",
       "       [137.],\n",
       "       [188.],\n",
       "       [146.],\n",
       "       [154.],\n",
       "       [167.],\n",
       "       [120.],\n",
       "       [169.],\n",
       "       [152.],\n",
       "       [168.],\n",
       "       [150.],\n",
       "       [160.],\n",
       "       [152.],\n",
       "       [174.],\n",
       "       [157.],\n",
       "       [157.],\n",
       "       [137.],\n",
       "       [155.],\n",
       "       [182.],\n",
       "       [174.],\n",
       "       [122.],\n",
       "       [130.],\n",
       "       [150.],\n",
       "       [177.],\n",
       "       [158.],\n",
       "       [120.],\n",
       "       [168.],\n",
       "       [112.],\n",
       "       [162.],\n",
       "       [125.],\n",
       "       [130.],\n",
       "       [145.],\n",
       "       [146.],\n",
       "       [153.],\n",
       "       [125.],\n",
       "       [143.],\n",
       "       [171.],\n",
       "       [153.],\n",
       "       [157.],\n",
       "       [190.],\n",
       "       [ 89.],\n",
       "       [106.],\n",
       "       [129.],\n",
       "       [169.],\n",
       "       [138.],\n",
       "       [122.],\n",
       "       [187.],\n",
       "       [162.],\n",
       "       [143.],\n",
       "       [145.],\n",
       "       [208.],\n",
       "       [162.],\n",
       "       [149.],\n",
       "       [124.],\n",
       "       [108.],\n",
       "       [168.],\n",
       "       [131.],\n",
       "       [158.],\n",
       "       [182.],\n",
       "       [162.],\n",
       "       [169.],\n",
       "       [132.],\n",
       "       [150.],\n",
       "       [155.],\n",
       "       [130.],\n",
       "       [143.],\n",
       "       [140.],\n",
       "       [138.],\n",
       "       [122.],\n",
       "       [196.],\n",
       "       [171.],\n",
       "       [161.],\n",
       "       [100.],\n",
       "       [167.],\n",
       "       [138.],\n",
       "       [113.],\n",
       "       [ 96.],\n",
       "       [182.],\n",
       "       [112.],\n",
       "       [186.],\n",
       "       [148.],\n",
       "       [117.],\n",
       "       [ 95.],\n",
       "       [142.],\n",
       "       [121.],\n",
       "       [169.],\n",
       "       [ 91.],\n",
       "       [169.],\n",
       "       [113.],\n",
       "       [152.],\n",
       "       [178.],\n",
       "       [ 92.],\n",
       "       [140.],\n",
       "       [149.],\n",
       "       [104.],\n",
       "       [171.]])"
      ]
     },
     "execution_count": 6,
     "metadata": {},
     "output_type": "execute_result"
    }
   ],
   "source": [
    "df = df.to_numpy()\n",
    "df"
   ]
  },
  {
   "cell_type": "code",
   "execution_count": 7,
   "metadata": {},
   "outputs": [
    {
     "data": {
      "image/png": "[encoded data removed]",
      "text/plain": [
       "<Figure size 640x480 with 1 Axes>"
      ]
     },
     "metadata": {},
     "output_type": "display_data"
    }
   ],
   "source": [
    "plt.hist(df)\n",
    "plt.xlabel('Movie Length')\n",
    "plt.ylabel('Frequency')\n",
    "plt.title('Movie Length Histogram')\n",
    "plt.show()"
   ]
  },
  {
   "cell_type": "markdown",
   "metadata": {},
   "source": [
    "Calculate $\\mu$ and $\\sigma^2$ for data"
   ]
  },
  {
   "cell_type": "code",
   "execution_count": 8,
   "metadata": {},
   "outputs": [
    {
     "name": "stdout",
     "output_type": "stream",
     "text": [
      "Mean = 146.800796812749\n",
      "Variance = 707.6814336280378\n"
     ]
    }
   ],
   "source": [
    "mu = np.mean(df)\n",
    "print(f\"Mean = {mu}\")\n",
    "variance = np.var(df)\n",
    "print(f\"Variance = {variance}\")"
   ]
  },
  {
   "cell_type": "markdown",
   "metadata": {},
   "source": [
    "My group number is 2. Therefore sampling 100 samples of 10 points each"
   ]
  },
  {
   "cell_type": "code",
   "execution_count": 9,
   "metadata": {
    "collapsed": true
   },
   "outputs": [
    {
     "name": "stdout",
     "output_type": "stream",
     "text": [
      "[array([169.,  92., 169., 132.,  98.,  89., 155., 146., 125., 133.]), array([130., 169., 170., 120., 148., 127., 153., 154., 168., 169.]), array([140.,  95., 168., 131., 131., 155., 118., 163., 131., 139.]), array([140., 165.,  96., 163., 228., 168., 123., 125., 176., 150.]), array([165., 131.,  92., 157., 155., 140., 162., 228., 142., 130.]), array([169., 157., 113., 137.,  96., 158., 158., 146., 181., 139.]), array([127., 117., 238., 169., 161., 133., 112., 182., 130., 169.]), array([133., 160., 119., 144., 146., 165., 169., 148., 155., 169.]), array([ 95., 113., 152., 171., 160.,  96.,  95., 157., 140., 150.]), array([129., 108., 144., 104., 153., 146., 152., 155., 161.,  92.]), array([156., 143., 163., 115., 157., 168., 168., 113., 171., 153.]), array([157., 186., 131., 238., 152., 146.,  94., 152., 152.,  96.]), array([176.,  89., 106., 127., 110., 112., 143., 140., 153., 158.]), array([165., 132., 100., 169., 165., 174., 161., 110., 169., 166.]), array([ 96., 152., 165., 152.,  98., 171., 139., 174., 113., 174.]), array([169., 138., 174., 176., 152., 182., 143., 120.,  97., 138.]), array([182., 161., 152., 139.,  93., 158., 142., 182.,  92., 157.]), array([105., 152., 162., 238., 171., 181., 133., 157., 153., 154.]), array([171., 131., 169., 171., 144., 146., 131., 138., 169., 238.]), array([137., 190., 148., 153., 153., 178., 181., 138.,  92., 138.]), array([150., 174., 157., 167., 160., 169., 104., 152.,  96., 157.]), array([169., 132., 165., 153., 171., 201., 143.,  92., 113., 150.]), array([110., 130., 165., 115., 160., 132., 158., 153., 149., 130.]), array([ 92., 167., 180., 153., 125., 162., 104., 171., 145., 146.]), array([148., 138., 115., 148., 132., 153., 169., 153., 160., 163.]), array([154., 150., 174.,  91., 159., 157., 112., 142., 168., 122.]), array([115., 132., 169., 182., 160., 143., 152., 126., 143., 112.]), array([169., 130., 158., 144.,  92., 162., 150., 142., 166., 127.]), array([143.,  92.,  97., 196., 136., 126., 153., 122., 171., 171.]), array([165., 168., 182., 165.,  92., 142., 155., 122., 104., 153.]), array([160., 113., 157., 150., 165., 150., 168.,  95., 157., 168.]), array([153., 182., 182., 157., 171., 157., 171., 115., 168., 122.]), array([177., 171., 171., 169., 169., 166., 159., 169., 124., 163.]), array([140., 169., 192., 150., 180., 122., 142., 122., 182., 152.]), array([128., 137., 168., 190., 133., 104., 165.,  97., 143., 153.]), array([122., 140.,  96., 153., 130., 178., 157., 113., 168., 138.]), array([157., 150., 110., 167., 140., 176., 166., 142., 130., 182.]), array([157., 138., 159., 152., 160., 157., 158., 169., 181., 169.]), array([139., 143., 161., 143., 130., 131., 125., 169., 152., 238.]), array([138., 145., 113., 188., 171., 120., 153., 177., 174., 128.]), array([186., 152., 169., 123., 178., 144., 127., 167., 162., 103.]), array([138., 153., 140., 162., 169., 143.,  92., 128.,  92., 157.]), array([163., 148., 171.,  95., 113., 139., 108., 143., 140., 165.]), array([146., 182., 171., 115., 152., 124.,  95., 157., 167., 153.]), array([150., 157., 176., 162., 112., 153., 110., 105., 162., 157.]), array([138., 168., 166., 171., 169., 145., 133., 153., 162., 149.]), array([182.,  89., 158., 171.,  92., 150.,  92., 161., 130., 132.]), array([149., 182., 190., 156., 163., 160., 171., 168.,  97., 126.]), array([162., 147., 133., 176., 143., 157., 124., 122., 154., 153.]), array([117., 145., 169., 157., 124., 158., 158., 153., 154., 143.]), array([149., 163., 130., 130., 148., 127., 134., 125., 150., 163.]), array([122., 113., 182., 149., 167., 161., 106., 138., 182., 143.]), array([120., 152., 182., 112., 161., 138., 104., 112., 169., 145.]), array([130., 120., 144., 161., 152., 187.,  96., 150., 228., 104.]), array([133., 182., 155., 152., 142., 169., 143., 128., 143., 143.]), array([174.,  96., 132., 108., 126., 115., 162., 152., 152., 120.]), array([162., 130., 115., 169., 165., 123., 158., 152., 177., 115.]), array([143., 171., 142., 163., 152., 143., 113., 153., 120., 157.]), array([169., 157., 143., 134., 166., 169., 138., 152., 158., 132.]), array([145., 181.,  89., 157., 168., 167., 138., 106., 163., 143.]), array([130., 159., 169., 143., 130., 113., 126., 124., 153., 124.]), array([ 97., 180., 161., 104., 196.,  94., 137., 131., 152., 162.]), array([122., 169., 171., 167., 177., 112., 168., 130., 110., 110.]), array([153., 137., 142., 133., 153., 153., 122., 153., 176., 168.]), array([177., 120., 142., 157., 112.,  96., 143., 187., 126.,  91.]), array([201.,  94., 152., 190., 137., 148., 148., 164., 169., 161.]), array([154., 133., 169., 132., 169., 132., 149., 130., 169.,  92.]), array([159., 162., 146., 163., 157., 238., 143.,  94., 182., 152.]), array([140., 124., 136., 110., 104., 152., 161., 132., 106., 150.]), array([130., 125., 128., 146., 104., 165., 104., 142., 228., 165.]), array([168., 165., 186., 150., 169., 171., 126., 113., 115., 149.]), array([ 93.,  95., 113., 149., 117., 190., 134., 169., 127., 152.]), array([168., 182., 150., 157., 190., 153., 108., 160., 130., 163.]), array([166., 113., 130., 146., 130., 139., 156., 137., 158., 162.]), array([161., 104., 137., 125., 115., 153., 138., 167., 176., 148.]), array([170., 169.,  94., 142., 187., 158., 238., 182., 169., 182.]), array([154., 171., 174., 155., 112., 140., 152., 115., 115., 165.]), array([176., 154., 136., 113., 160., 182., 201., 153., 177., 145.]), array([152., 153., 158., 125., 144., 182., 165., 180., 157., 161.]), array([115., 177., 228., 163., 147., 104., 143., 142., 168., 103.]), array([149., 105., 113., 169., 104., 153., 149., 153., 153., 122.]), array([ 89., 153., 155., 104., 104., 131., 190., 156., 150., 157.]), array([120., 110., 171., 150., 131., 104., 182., 168., 171., 126.]), array([ 92., 103., 153., 104., 143., 158., 165., 171., 112., 158.]), array([133., 142., 120., 169., 168., 165., 133., 155., 120., 126.]), array([153., 149., 122., 150., 115., 161., 171., 166., 182.,  96.]), array([121., 143., 178., 228.,  94., 143., 155., 133., 178., 138.]), array([174., 150., 146., 112., 169., 171., 228., 169., 153., 196.]), array([182., 168., 165., 177., 142., 142., 120., 165., 124., 171.]), array([150., 124., 167., 196.,  96., 119., 180.,  93., 153., 169.]), array([119., 149., 158., 160., 113., 169., 100., 174., 118.,  96.]), array([192., 160., 147., 127., 158.,  91., 158., 157., 152., 129.]), array([ 89., 182., 138., 112.,  94., 122., 132., 122., 190., 152.]), array([106., 192., 154., 177., 100., 161., 170., 153., 104., 171.]), array([153., 150., 150., 152., 138., 152., 121., 164., 130., 208.]), array([156., 196., 152., 112., 159.,  92., 155., 148., 178., 130.]), array([150., 165., 168., 167., 120., 153., 113., 162., 149., 155.]), array([140., 130., 158., 113., 152., 190., 162., 158., 186., 142.]), array([139., 169., 131., 171., 110., 138., 130., 112., 154., 169.]), array([161., 104.,  91., 186., 153., 169., 138., 153., 145.,  95.])]\n"
     ]
    }
   ],
   "source": [
    "n = 10 \n",
    "samples = [np.random.choice(df.reshape(-1,), n) for i in range(100)]\n",
    "print(samples)"
   ]
  },
  {
   "cell_type": "markdown",
   "metadata": {},
   "source": [
    "Calculating mean of each sample"
   ]
  },
  {
   "cell_type": "code",
   "execution_count": 10,
   "metadata": {},
   "outputs": [
    {
     "name": "stdout",
     "output_type": "stream",
     "text": [
      "[130.8, 150.8, 137.1, 153.4, 150.2, 145.4, 153.8, 150.8, 132.9, 134.4, 150.7, 150.4, 131.4, 151.1, 143.4, 148.9, 145.8, 160.6, 160.8, 150.8, 148.6, 148.9, 140.2, 144.5, 147.9, 142.9, 143.4, 144.0, 140.7, 144.8, 148.3, 157.8, 163.8, 155.1, 141.8, 139.5, 152.0, 160.0, 153.1, 150.7, 151.1, 137.4, 138.5, 146.2, 144.4, 155.4, 135.7, 156.2, 147.1, 147.8, 141.9, 146.3, 139.5, 147.2, 149.0, 133.7, 146.6, 145.7, 151.8, 145.7, 137.1, 141.4, 143.6, 149.0, 135.1, 156.4, 142.9, 159.6, 131.5, 143.7, 151.2, 133.9, 156.1, 143.7, 142.4, 169.1, 145.3, 159.7, 157.7, 149.0, 137.0, 138.9, 143.3, 135.9, 143.1, 146.5, 151.1, 166.8, 155.6, 144.7, 135.6, 147.1, 133.3, 148.8, 151.8, 147.8, 150.2, 153.1, 142.3, 139.5]\n"
     ]
    }
   ],
   "source": [
    "means = [np.mean(sample) for sample in samples]\n",
    "print(means)"
   ]
  },
  {
   "cell_type": "markdown",
   "metadata": {},
   "source": [
    "Draw histogram"
   ]
  },
  {
   "cell_type": "code",
   "execution_count": 11,
   "metadata": {},
   "outputs": [
    {
     "data": {
      "image/png": "[encoded data removed]",
      "text/plain": [
       "<Figure size 640x480 with 1 Axes>"
      ]
     },
     "metadata": {},
     "output_type": "display_data"
    }
   ],
   "source": [
    "plt.hist(means)\n",
    "plt.xlabel('Movie Length')\n",
    "plt.ylabel('Frequency')\n",
    "plt.title('Histogram of Means of Movie Length Samples')\n",
    "plt.show()"
   ]
  },
  {
   "cell_type": "markdown",
   "metadata": {},
   "source": [
    "Calculate mean and standard deviation of means"
   ]
  },
  {
   "cell_type": "code",
   "execution_count": 12,
   "metadata": {},
   "outputs": [
    {
     "name": "stdout",
     "output_type": "stream",
     "text": [
      "Mean = 146.695\n",
      "Standard Deviation = 7.989785666712218\n"
     ]
    }
   ],
   "source": [
    "mn = np.mean(means)\n",
    "sd = np.std(means)\n",
    "print(f\"Mean = {mn}\")\n",
    "print(f\"Standard Deviation = {sd}\")"
   ]
  },
  {
   "attachments": {},
   "cell_type": "markdown",
   "metadata": {},
   "source": [
    "Regardless of the original distribution of x variable, the distribution of the sample mean asymptotically tends to normality, under the condition that $x_i$'s are iid. This is central limit theorem.\n",
    "<br>\n",
    "<br>\n",
    "The CLT only applies to sample means, not to original data. The original data can be anything, but the sample means will be normally distributed. "
   ]
  },
  {
   "cell_type": "code",
   "execution_count": null,
   "metadata": {},
   "outputs": [],
   "source": []
  }
 ],
 "metadata": {
  "kernelspec": {
   "display_name": "Python 3 (ipykernel)",
   "language": "python",
   "name": "python3"
  },
  "language_info": {
   "codemirror_mode": {
    "name": "ipython",
    "version": 3
   },
   "file_extension": ".py",
   "mimetype": "text/x-python",
   "name": "python",
   "nbconvert_exporter": "python",
   "pygments_lexer": "ipython3",
   "version": "3.10.6"
  },
  "vscode": {
   "interpreter": {
    "hash": "90fe576973271cf899b0ff2bfc885023e73fdc4a0873ebeb940eccfd8c747e03"
   }
  }
 },
 "nbformat": 4,
 "nbformat_minor": 2
}
