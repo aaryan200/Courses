{
 "cells": [
  {
   "cell_type": "code",
   "execution_count": 1,
   "metadata": {},
   "outputs": [],
   "source": [
    "import numpy as np\n",
    "import matplotlib.pyplot as plt\n",
    "import pandas as pd"
   ]
  },
  {
   "cell_type": "code",
   "execution_count": 2,
   "metadata": {},
   "outputs": [],
   "source": [
    "# Read the file\n",
    "file = 'data.csv'\n",
    "df = pd.read_csv(file)\n",
    "df = df.drop(['Name','Roll No', 'Email', 'Group', 'Favourite movie', 'Year on 5Rs coin'], axis = 1)\n",
    "df = df.dropna()"
   ]
  },
  {
   "cell_type": "code",
   "execution_count": 3,
   "metadata": {},
   "outputs": [
    {
     "data": {
      "text/html": [
       "<div>\n",
       "<style scoped>\n",
       "    .dataframe tbody tr th:only-of-type {\n",
       "        vertical-align: middle;\n",
       "    }\n",
       "\n",
       "    .dataframe tbody tr th {\n",
       "        vertical-align: top;\n",
       "    }\n",
       "\n",
       "    .dataframe thead th {\n",
       "        text-align: right;\n",
       "    }\n",
       "</style>\n",
       "<table border=\"1\" class=\"dataframe\">\n",
       "  <thead>\n",
       "    <tr style=\"text-align: right;\">\n",
       "      <th></th>\n",
       "      <th>Movie Length in mins</th>\n",
       "    </tr>\n",
       "  </thead>\n",
       "  <tbody>\n",
       "    <tr>\n",
       "      <th>2</th>\n",
       "      <td>181.0</td>\n",
       "    </tr>\n",
       "    <tr>\n",
       "      <th>3</th>\n",
       "      <td>152.0</td>\n",
       "    </tr>\n",
       "    <tr>\n",
       "      <th>4</th>\n",
       "      <td>168.0</td>\n",
       "    </tr>\n",
       "    <tr>\n",
       "      <th>5</th>\n",
       "      <td>164.0</td>\n",
       "    </tr>\n",
       "    <tr>\n",
       "      <th>6</th>\n",
       "      <td>176.0</td>\n",
       "    </tr>\n",
       "  </tbody>\n",
       "</table>\n",
       "</div>"
      ],
      "text/plain": [
       "   Movie Length in mins\n",
       "2                 181.0\n",
       "3                 152.0\n",
       "4                 168.0\n",
       "5                 164.0\n",
       "6                 176.0"
      ]
     },
     "execution_count": 3,
     "metadata": {},
     "output_type": "execute_result"
    }
   ],
   "source": [
    "df.head()"
   ]
  },
  {
   "cell_type": "code",
   "execution_count": 4,
   "metadata": {},
   "outputs": [],
   "source": [
    "# Removing data with movie length more than 250 minutes\n",
    "df = df[df['Movie Length in mins'] < 250]"
   ]
  },
  {
   "cell_type": "code",
   "execution_count": 5,
   "metadata": {
    "collapsed": true
   },
   "outputs": [
    {
     "data": {
      "text/plain": [
       "array([[181.],\n",
       "       [152.],\n",
       "       [168.],\n",
       "       [164.],\n",
       "       [176.],\n",
       "       [133.],\n",
       "       [153.],\n",
       "       [144.],\n",
       "       [169.],\n",
       "       [154.],\n",
       "       [152.],\n",
       "       [115.],\n",
       "       [112.],\n",
       "       [153.],\n",
       "       [103.],\n",
       "       [148.],\n",
       "       [110.],\n",
       "       [228.],\n",
       "       [110.],\n",
       "       [136.],\n",
       "       [ 97.],\n",
       "       [113.],\n",
       "       [126.],\n",
       "       [130.],\n",
       "       [143.],\n",
       "       [169.],\n",
       "       [159.],\n",
       "       [170.],\n",
       "       [110.],\n",
       "       [138.],\n",
       "       [139.],\n",
       "       [120.],\n",
       "       [169.],\n",
       "       [126.],\n",
       "       [123.],\n",
       "       [156.],\n",
       "       [163.],\n",
       "       [134.],\n",
       "       [115.],\n",
       "       [160.],\n",
       "       [104.],\n",
       "       [153.],\n",
       "       [152.],\n",
       "       [ 92.],\n",
       "       [ 94.],\n",
       "       [ 92.],\n",
       "       [128.],\n",
       "       [169.],\n",
       "       [152.],\n",
       "       [176.],\n",
       "       [119.],\n",
       "       [165.],\n",
       "       [133.],\n",
       "       [143.],\n",
       "       [171.],\n",
       "       [168.],\n",
       "       [163.],\n",
       "       [146.],\n",
       "       [157.],\n",
       "       [157.],\n",
       "       [168.],\n",
       "       [157.],\n",
       "       [171.],\n",
       "       [177.],\n",
       "       [105.],\n",
       "       [130.],\n",
       "       [182.],\n",
       "       [153.],\n",
       "       [182.],\n",
       "       [165.],\n",
       "       [165.],\n",
       "       [158.],\n",
       "       [127.],\n",
       "       [132.],\n",
       "       [139.],\n",
       "       [131.],\n",
       "       [140.],\n",
       "       [155.],\n",
       "       [166.],\n",
       "       [163.],\n",
       "       [130.],\n",
       "       [171.],\n",
       "       [153.],\n",
       "       [148.],\n",
       "       [ 93.],\n",
       "       [201.],\n",
       "       [165.],\n",
       "       [138.],\n",
       "       [169.],\n",
       "       [168.],\n",
       "       [171.],\n",
       "       [169.],\n",
       "       [150.],\n",
       "       [152.],\n",
       "       [167.],\n",
       "       [143.],\n",
       "       [142.],\n",
       "       [182.],\n",
       "       [174.],\n",
       "       [106.],\n",
       "       [136.],\n",
       "       [100.],\n",
       "       [144.],\n",
       "       [149.],\n",
       "       [106.],\n",
       "       [147.],\n",
       "       [149.],\n",
       "       [157.],\n",
       "       [ 96.],\n",
       "       [171.],\n",
       "       [132.],\n",
       "       [165.],\n",
       "       [238.],\n",
       "       [104.],\n",
       "       [169.],\n",
       "       [ 96.],\n",
       "       [153.],\n",
       "       [131.],\n",
       "       [169.],\n",
       "       [190.],\n",
       "       [ 92.],\n",
       "       [124.],\n",
       "       [158.],\n",
       "       [182.],\n",
       "       [115.],\n",
       "       [ 98.],\n",
       "       [176.],\n",
       "       [192.],\n",
       "       [120.],\n",
       "       [142.],\n",
       "       [161.],\n",
       "       [153.],\n",
       "       [166.],\n",
       "       [140.],\n",
       "       [118.],\n",
       "       [171.],\n",
       "       [180.],\n",
       "       [153.],\n",
       "       [142.],\n",
       "       [160.],\n",
       "       [142.],\n",
       "       [182.],\n",
       "       [157.],\n",
       "       [158.],\n",
       "       [127.],\n",
       "       [163.],\n",
       "       [150.],\n",
       "       [153.],\n",
       "       [142.],\n",
       "       [161.],\n",
       "       [ 96.],\n",
       "       [104.],\n",
       "       [122.],\n",
       "       [152.],\n",
       "       [168.],\n",
       "       [182.],\n",
       "       [137.],\n",
       "       [188.],\n",
       "       [146.],\n",
       "       [154.],\n",
       "       [167.],\n",
       "       [120.],\n",
       "       [169.],\n",
       "       [152.],\n",
       "       [168.],\n",
       "       [150.],\n",
       "       [160.],\n",
       "       [152.],\n",
       "       [174.],\n",
       "       [157.],\n",
       "       [157.],\n",
       "       [137.],\n",
       "       [155.],\n",
       "       [182.],\n",
       "       [174.],\n",
       "       [122.],\n",
       "       [130.],\n",
       "       [150.],\n",
       "       [177.],\n",
       "       [158.],\n",
       "       [120.],\n",
       "       [168.],\n",
       "       [112.],\n",
       "       [162.],\n",
       "       [125.],\n",
       "       [130.],\n",
       "       [145.],\n",
       "       [146.],\n",
       "       [153.],\n",
       "       [125.],\n",
       "       [143.],\n",
       "       [171.],\n",
       "       [153.],\n",
       "       [157.],\n",
       "       [190.],\n",
       "       [ 89.],\n",
       "       [106.],\n",
       "       [129.],\n",
       "       [169.],\n",
       "       [138.],\n",
       "       [122.],\n",
       "       [187.],\n",
       "       [162.],\n",
       "       [143.],\n",
       "       [145.],\n",
       "       [208.],\n",
       "       [162.],\n",
       "       [149.],\n",
       "       [124.],\n",
       "       [108.],\n",
       "       [168.],\n",
       "       [131.],\n",
       "       [158.],\n",
       "       [182.],\n",
       "       [162.],\n",
       "       [169.],\n",
       "       [132.],\n",
       "       [150.],\n",
       "       [155.],\n",
       "       [130.],\n",
       "       [143.],\n",
       "       [140.],\n",
       "       [138.],\n",
       "       [122.],\n",
       "       [196.],\n",
       "       [171.],\n",
       "       [161.],\n",
       "       [100.],\n",
       "       [167.],\n",
       "       [138.],\n",
       "       [113.],\n",
       "       [ 96.],\n",
       "       [182.],\n",
       "       [112.],\n",
       "       [186.],\n",
       "       [148.],\n",
       "       [117.],\n",
       "       [ 95.],\n",
       "       [142.],\n",
       "       [121.],\n",
       "       [169.],\n",
       "       [ 91.],\n",
       "       [169.],\n",
       "       [113.],\n",
       "       [152.],\n",
       "       [178.],\n",
       "       [ 92.],\n",
       "       [140.],\n",
       "       [149.],\n",
       "       [104.],\n",
       "       [171.]])"
      ]
     },
     "execution_count": 5,
     "metadata": {},
     "output_type": "execute_result"
    }
   ],
   "source": [
    "df = df.to_numpy()\n",
    "df"
   ]
  },
  {
   "cell_type": "markdown",
   "metadata": {},
   "source": [
    "Calculate $\\mu$ and $\\sigma^2$ for data"
   ]
  },
  {
   "cell_type": "code",
   "execution_count": 6,
   "metadata": {},
   "outputs": [
    {
     "name": "stdout",
     "output_type": "stream",
     "text": [
      "Mean = 146.800796812749\n",
      "Variance = 707.6814336280378\n"
     ]
    }
   ],
   "source": [
    "mu = np.mean(df)\n",
    "print(f\"Mean = {mu}\")\n",
    "variance = np.var(df)\n",
    "print(f\"Variance = {variance}\")"
   ]
  },
  {
   "cell_type": "markdown",
   "metadata": {},
   "source": [
    "My group number is 2. Therefore sampling 100 samples of 10 points each"
   ]
  },
  {
   "cell_type": "code",
   "execution_count": 7,
   "metadata": {
    "collapsed": true
   },
   "outputs": [
    {
     "name": "stdout",
     "output_type": "stream",
     "text": [
      "[array([158., 182.,  97., 182., 163., 104., 143., 105., 163., 113.]), array([ 98., 165., 157., 160., 152.,  96., 108., 182., 166., 150.]), array([150., 119., 157., 110., 171., 142., 103., 152., 133., 150.]), array([182., 123., 208., 132., 169., 158., 150., 169., 149., 140.]), array([148., 113., 174., 150., 149., 157., 163., 169., 165., 131.]), array([136., 153., 137., 153., 152., 169., 152., 153., 148., 124.]), array([128., 115., 167.,  96., 162., 165., 145., 196., 122., 161.]), array([131., 169., 140., 125., 149., 165., 169., 238., 122., 138.]), array([150., 182., 174., 104., 157., 188., 125., 158., 130., 190.]), array([157., 120., 104., 143., 157., 182., 110., 174., 157., 169.]), array([180., 238., 108., 110., 165., 145., 122., 166., 130., 182.]), array([136., 155., 130., 153., 124., 147., 126., 129., 132., 152.]), array([171., 152., 238.,  97., 104., 168., 166., 105., 163., 145.]), array([132., 138., 156., 163., 137., 143.,  92., 153., 169., 182.]), array([ 98., 168., 182., 123., 152., 171., 150., 142., 113., 208.]), array([124., 165., 104., 127., 182., 182., 120.,  96., 128., 153.]), array([171., 142., 120., 182., 169., 124., 138., 140., 125., 176.]), array([182., 146., 182., 162., 167., 177., 106., 122., 106., 208.]), array([168., 138., 145., 150., 122., 104., 105., 169., 196., 143.]), array([118., 143., 113., 122., 106., 122.,  92., 134., 113., 176.]), array([127., 148., 165., 165., 208., 145., 112., 157., 174., 190.]), array([171., 100., 113.,  92., 122., 130., 181., 166., 137., 147.]), array([143., 125., 168., 131., 152., 169., 160., 182.,  97., 126.]), array([171., 122., 110., 157., 134., 157., 188., 122., 171., 143.]), array([182., 182., 157., 152., 168., 153., 153., 160., 145., 169.]), array([160., 160., 157., 228., 152., 162., 157., 182., 162., 130.]), array([165., 146., 150., 171., 163., 150., 168., 152., 162., 138.]), array([106., 158., 208., 182., 171., 208., 117.,  91., 178., 140.]), array([177., 157., 152., 149., 130., 143., 133.,  96., 153., 181.]), array([157., 161., 167., 176.,  92., 122., 169., 138., 152., 158.]), array([127., 100., 162., 133., 132., 157., 201., 115., 104., 182.]), array([168., 100., 120., 160., 155., 186., 158., 153., 105., 146.]), array([165., 169., 130., 157., 170., 113., 130., 182., 122., 121.]), array([190., 129., 125., 119., 113., 112., 103., 176., 152., 157.]), array([158., 157.,  92., 182., 130., 155., 238., 152., 169., 159.]), array([169., 148., 126., 162., 169.,  97., 142., 142.,  96., 162.]), array([ 89., 153., 160., 152., 169., 165., 132., 137., 174., 153.]), array([152., 228., 150., 132., 142., 145., 163., 174., 177., 112.]), array([169., 138., 130., 112., 153., 143., 152., 131., 169., 171.]), array([168., 165., 162., 132., 130., 133., 113., 168., 150., 169.]), array([152., 163., 182., 153., 130., 132., 177., 147., 166., 110.]), array([ 97., 104.,  96., 168., 157., 162., 146., 110., 150.,  96.]), array([106., 154., 153., 131., 152., 169., 167., 165., 123., 160.]), array([149., 153., 122., 154., 115., 174., 130.,  92., 125., 115.]), array([104., 162., 180., 169.,  96., 167., 131., 168., 154., 149.]), array([133., 162., 104., 180., 165., 139., 106., 138., 149., 132.]), array([142., 146., 155., 144., 140., 178., 120., 132., 167., 192.]), array([188., 176., 140., 131., 106., 174., 122., 154., 176., 182.]), array([169., 142., 122., 122., 115., 174.,  92., 143., 153., 115.]), array([ 93., 182., 168., 126., 137., 106., 171., 146., 130., 169.]), array([113., 174., 149., 104., 157., 190., 153., 163., 146.,  94.]), array([168., 142., 171., 103., 150., 120., 177., 131., 168., 171.]), array([103., 169., 104., 169., 176., 157., 169., 142., 158., 138.]), array([157., 123., 146., 126., 228.,  92., 165., 139., 130., 120.]), array([228., 117., 140., 130., 160., 174., 157., 154., 228., 104.]), array([131., 182., 169., 125., 124., 143., 152., 158., 122., 153.]), array([155.,  96., 120., 165., 144., 192., 120., 161., 169., 124.]), array([165., 154., 162., 131., 131., 142., 160., 115., 171.,  92.]), array([128., 130., 106., 180., 161., 165., 153., 157., 140., 182.]), array([112., 104., 143., 143., 150.,  96., 100., 168., 162., 127.]), array([130., 132., 104., 169., 131., 163., 139., 171., 154., 153.]), array([164., 130., 168.,  92., 122., 158., 142., 152., 150., 126.]), array([168., 182., 142., 170., 142., 119., 162., 182., 157., 115.]), array([119., 188., 153., 156., 150., 182., 155., 108., 110., 144.]), array([177., 138.,  97., 100.,  92., 188.,  92., 145., 143., 178.]), array([133., 182.,  91.,  89.,  95., 130., 160., 150., 130., 138.]), array([122., 167., 165., 132., 167., 100., 152., 138., 129., 177.]), array([188., 153., 165., 171., 155., 169., 150., 228., 110., 121.]), array([157., 162., 152., 126., 155., 134., 169., 168.,  95., 146.]), array([153., 228.,  93., 143., 120., 166., 157., 154., 113., 162.]), array([140., 143., 157., 144., 168., 113.,  89.,  96., 150., 142.]), array([143.,  95., 168., 150., 150., 118., 154., 127., 163.,  92.]), array([169., 190., 182., 133., 149., 112., 118., 168., 144., 152.]), array([169.,  97., 168., 168., 155., 157., 192., 157., 100., 157.]), array([130., 166.,  92., 169., 161., 167., 152., 182., 142., 126.]), array([138., 169., 120., 120., 182., 143., 176., 136., 165., 171.]), array([160., 148., 208., 138.,  97., 143., 146., 153., 136., 120.]), array([144., 127., 158., 130., 163., 188., 171., 158., 190., 157.]), array([150.,  92., 162., 132., 164., 134., 112., 166., 168., 154.]), array([153., 104., 142., 143., 152., 139., 153., 115., 138., 148.]), array([148., 165., 190., 166., 150., 143., 152., 123., 132., 149.]), array([153., 152., 130., 152.,  92.,  89., 160., 129., 150., 158.]), array([174., 113., 146., 126., 152., 138., 171., 106., 130.,  93.]), array([163., 163., 182., 161., 129., 152., 142., 100., 152., 115.]), array([161., 117., 149., 182., 169., 142., 104., 162., 149.,  94.]), array([158., 122., 190., 182., 122., 155., 164., 164., 171., 131.]), array([169.,  93., 182., 149., 126., 138.,  98., 154., 110., 104.]), array([169., 190., 134., 104., 143., 174., 155., 153., 182., 138.]), array([ 96., 169., 126., 167., 154., 112.,  96., 178., 180., 142.]), array([120., 128., 122., 162., 122., 130., 130.,  98., 138., 165.]), array([161., 122., 153., 169.,  93., 190., 137., 164., 169., 186.]), array([190., 153., 130.,  91., 171., 192., 138., 163.,  92., 104.]), array([168., 177., 168., 187., 154., 174., 115., 168., 138., 153.]), array([169., 145.,  92., 182., 143., 142., 148., 154., 160., 169.]), array([157., 125., 169., 130., 166., 113., 130., 145., 134., 153.]), array([150., 167., 149., 155., 163., 144., 150., 160., 174., 144.]), array([106., 115., 153., 171., 122., 142., 156., 148., 130., 186.]), array([155., 153., 143., 165., 146., 124., 131., 152., 149., 153.]), array([158., 131., 182.,  96., 157., 171., 149., 121., 169., 182.]), array([187., 165., 171., 148., 152., 152., 174., 161., 138., 100.])]\n"
     ]
    }
   ],
   "source": [
    "n = 10 \n",
    "samples = [np.random.choice(df.reshape(-1,), n) for i in range(100)]\n",
    "print(samples)"
   ]
  },
  {
   "cell_type": "markdown",
   "metadata": {},
   "source": [
    "Calculating mean of each sample"
   ]
  },
  {
   "cell_type": "code",
   "execution_count": 8,
   "metadata": {},
   "outputs": [
    {
     "name": "stdout",
     "output_type": "stream",
     "text": [
      "[141.0, 143.4, 138.7, 158.0, 151.9, 147.7, 145.7, 154.6, 155.8, 147.3, 154.6, 138.4, 150.9, 146.5, 150.7, 138.1, 148.7, 155.8, 144.0, 123.9, 159.1, 135.9, 145.3, 147.5, 162.1, 165.0, 156.5, 155.9, 147.1, 149.2, 141.3, 145.1, 145.9, 137.6, 159.2, 141.3, 148.4, 157.5, 146.8, 149.0, 151.2, 128.6, 148.0, 132.9, 148.0, 140.8, 151.6, 154.9, 134.7, 142.8, 144.3, 150.1, 148.5, 142.6, 159.2, 145.9, 144.6, 142.3, 150.2, 130.5, 144.6, 140.4, 153.9, 146.5, 135.0, 129.8, 144.9, 161.0, 146.4, 148.9, 134.2, 136.0, 151.7, 152.0, 148.7, 152.0, 144.9, 158.6, 143.4, 138.7, 151.8, 136.5, 134.9, 145.9, 142.9, 155.9, 132.3, 154.2, 142.0, 131.5, 154.4, 142.4, 160.2, 150.4, 142.2, 155.6, 142.9, 147.1, 151.6, 154.8]\n"
     ]
    }
   ],
   "source": [
    "means = [np.mean(sample) for sample in samples]\n",
    "print(means)"
   ]
  },
  {
   "cell_type": "markdown",
   "metadata": {},
   "source": [
    "Draw histogram"
   ]
  },
  {
   "cell_type": "code",
   "execution_count": 9,
   "metadata": {},
   "outputs": [
    {
     "data": {
      "image/png": "[encoded data removed]",
      "text/plain": [
       "<Figure size 640x480 with 1 Axes>"
      ]
     },
     "metadata": {},
     "output_type": "display_data"
    }
   ],
   "source": [
    "plt.hist(means)\n",
    "plt.show()"
   ]
  },
  {
   "cell_type": "markdown",
   "metadata": {},
   "source": [
    "Calculate mean and standard deviation of means"
   ]
  },
  {
   "cell_type": "code",
   "execution_count": 10,
   "metadata": {},
   "outputs": [
    {
     "name": "stdout",
     "output_type": "stream",
     "text": [
      "Mean = 146.642\n",
      "Standard Deviation = 8.191094920705044\n"
     ]
    }
   ],
   "source": [
    "mn = np.mean(means)\n",
    "sd = np.std(means)\n",
    "print(f\"Mean = {mn}\")\n",
    "print(f\"Standard Deviation = {sd}\")"
   ]
  },
  {
   "cell_type": "code",
   "execution_count": null,
   "metadata": {},
   "outputs": [],
   "source": []
  }
 ],
 "metadata": {
  "kernelspec": {
   "display_name": "Python 3 (ipykernel)",
   "language": "python",
   "name": "python3"
  },
  "language_info": {
   "codemirror_mode": {
    "name": "ipython",
    "version": 3
   },
   "file_extension": ".py",
   "mimetype": "text/x-python",
   "name": "python",
   "nbconvert_exporter": "python",
   "pygments_lexer": "ipython3",
   "version": "3.10.6"
  },
  "vscode": {
   "interpreter": {
    "hash": "90fe576973271cf899b0ff2bfc885023e73fdc4a0873ebeb940eccfd8c747e03"
   }
  }
 },
 "nbformat": 4,
 "nbformat_minor": 2
}
